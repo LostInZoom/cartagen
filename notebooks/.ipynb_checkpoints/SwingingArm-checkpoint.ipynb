{
 "cells": [
  {
   "cell_type": "code",
   "execution_count": 1,
   "id": "3b24dcac-b132-4dff-8bf6-65c6858ec4a6",
   "metadata": {},
   "outputs": [],
   "source": [
    "import geopandas as gpd\n",
    "import sys\n",
    "sys.path.append( '../cartagen4py/algorithms/points' )\n",
    "import swinging_arm"
   ]
  },
  {
   "cell_type": "markdown",
   "id": "7f25181c-ccd9-4258-9f51-c3a856e75ea1",
   "metadata": {},
   "source": [
    "# Parameters"
   ]
  },
  {
   "cell_type": "code",
   "execution_count": 2,
   "id": "508ba723-c305-4c0a-877d-36ccce4cc6c9",
   "metadata": {},
   "outputs": [
    {
     "ename": "NameError",
     "evalue": "name 'gpd' is not defined",
     "output_type": "error",
     "traceback": [
      "\u001b[1;31m---------------------------------------------------------------------------\u001b[0m",
      "\u001b[1;31mNameError\u001b[0m                                 Traceback (most recent call last)",
      "Cell \u001b[1;32mIn[2], line 1\u001b[0m\n\u001b[1;32m----> 1\u001b[0m points \u001b[38;5;241m=\u001b[39m gpd\u001b[38;5;241m.\u001b[39mread_file(\u001b[38;5;124m'\u001b[39m\u001b[38;5;124m./puntosSHP/puntos3.shp\u001b[39m\u001b[38;5;124m'\u001b[39m)\n\u001b[0;32m      2\u001b[0m r \u001b[38;5;241m=\u001b[39m \u001b[38;5;241m20\u001b[39m\n",
      "\u001b[1;31mNameError\u001b[0m: name 'gpd' is not defined"
     ]
    }
   ],
   "source": [
    "points = gpd.read_file('./puntosSHP/puntos3.shp')\n",
    "r = 20"
   ]
  },
  {
   "cell_type": "code",
   "execution_count": null,
   "id": "a02a23eb-9f1e-45e1-be06-62e5094a0c82",
   "metadata": {},
   "outputs": [],
   "source": [
    "polygons = swing(points, r)\n",
    "draw_swingingArm(points, polygons)\n",
    "    "
   ]
  }
 ],
 "metadata": {
  "kernelspec": {
   "display_name": "Python 3 (ipykernel)",
   "language": "python",
   "name": "python3"
  },
  "language_info": {
   "codemirror_mode": {
    "name": "ipython",
    "version": 3
   },
   "file_extension": ".py",
   "mimetype": "text/x-python",
   "name": "python",
   "nbconvert_exporter": "python",
   "pygments_lexer": "ipython3",
   "version": "3.11.7"
  }
 },
 "nbformat": 4,
 "nbformat_minor": 5
}
